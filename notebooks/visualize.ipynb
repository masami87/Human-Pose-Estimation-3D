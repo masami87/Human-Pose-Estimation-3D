{
 "cells": [
  {
   "cell_type": "code",
   "execution_count": null,
   "metadata": {},
   "outputs": [],
   "source": [
    "%matplotlib inline\n",
    "\n",
    "import sys\n",
    "sys.path.append('/home/wt/py_projects/HPE-3d')\n",
    "sys.path.append('/home/wt/py_projects/HPE-3d/datasets')\n",
    "\n",
    "\n",
    "import numpy as np\n",
    "import matplotlib.pyplot as plt\n",
    "from datasets.h36m import Human36mDataset"
   ]
  },
  {
   "cell_type": "code",
   "execution_count": null,
   "metadata": {},
   "outputs": [],
   "source": [
    "dir_path = '../data/'\n",
    "data_path = dir_path + 'data_2d_h36m_gt.npz'\n",
    "data_path_3d = dir_path + 'data_3d_h36m.npz'\n",
    "keypoints = np.load(data_path, allow_pickle=True)['positions_2d'].item()\n",
    "dataset = Human36mDataset(data_path_3d,True)\n",
    "print(dataset._skeleton.num_joints())\n"
   ]
  },
  {
   "cell_type": "code",
   "execution_count": null,
   "metadata": {},
   "outputs": [],
   "source": [
    "camera = 0\n",
    "kps = keypoints['S1']['Photo'][camera] \n",
    "anim = dataset['S1']['Photo']\n",
    "jts = dataset['S1']['Photo']['positions']\n",
    "\n",
    "print(kps.shape)\n",
    "print(jts.shape)\n",
    "frame = 800\n",
    "\n",
    "coordinates_2d = kps[frame]\n",
    "coordinates_3d = jts[frame] # global\n",
    "print(coordinates_2d)\n",
    "print(coordinates_3d)"
   ]
  },
  {
   "cell_type": "code",
   "execution_count": null,
   "metadata": {},
   "outputs": [],
   "source": [
    "joint_pairs = [[0, 1], [1, 2], [2, 3], [0, 4], [4, 5], [5, 6],\n",
    "               [0, 7], [7, 8], [8, 9], [9, 10], [8, 11], [11, 12],\n",
    "               [12, 13], [8, 14], [14, 15], [15, 16]]\n",
    "\n",
    "colors_kps = [[255, 0, 0], [255, 85, 0], [255, 170, 0], [255, 255, 0], [170, 255, 0], [85, 255, 0], [0, 255, 0],\n",
    "              [50, 205, 50], [0, 255, 170], [0, 255, 255], [\n",
    "                  0, 170, 255], [0, 85, 255], [0, 0, 255], [85, 0, 255],\n",
    "              [170, 0, 255], [255, 0, 255]]\n",
    "\n",
    "\n",
    "def plot_keypoint(coordinates):\n",
    "    plt.figure(figsize=(7,7))\n",
    "    x_max = coordinates_2d[:, 0].max()\n",
    "    x_min = coordinates_2d[:, 0].min()\n",
    "    y_max = coordinates_2d[:, 1].max()\n",
    "    y_min = coordinates_2d[:, 1].min()\n",
    "    # axes.set_xlim([0,h36m_cameras_intrinsic_params['res_w']])\n",
    "    # axes.set_ylim([h36m_cameras_intrinsic_params['res_h'],0])\n",
    "    plt.xlim(x_min-20,x_max+20)\n",
    "    plt.ylim(y_max+20,y_min-20)\n",
    "    plt.axis('equal')\n",
    "\n",
    "    for i in range(coordinates.shape[0]):\n",
    "        pts = coordinates[i]\n",
    "        for color_i, jp in zip(colors_kps, joint_pairs):\n",
    "            color_i = [c / 255 for c in color_i]\n",
    "            pt_a = coordinates[jp[0]]\n",
    "            pt_b = coordinates[jp[1]]\n",
    "            # pt_a_x, pt_a_y, pt_b_x, pt_b_y = int(pt_a[0]), int(\n",
    "            #     pt_a[1]), int(pt_b[0]), int(pt_b[1])\n",
    "            pt_a_x, pt_a_y, pt_b_x, pt_b_y = pt_a[0],pt_a[1], pt_b[0], pt_b[1]\n",
    "            plt.plot((pt_a_x, pt_b_x), (pt_a_y, pt_b_y), color=color_i, lw=2.0)\n",
    "            plt.plot(pt_a_x,pt_a_y,marker='o',color=color_i)\n",
    "            plt.plot(pt_b_x,pt_b_y,marker='o',color=color_i)\n",
    "\n",
    "\n",
    "plot_keypoint(coordinates_2d)\n"
   ]
  },
  {
   "cell_type": "code",
   "execution_count": null,
   "metadata": {},
   "outputs": [],
   "source": [
    "# from common.camera import *\n",
    "# cam = anim['cameras'][0]\n",
    "# print(cam)\n",
    "\n",
    "# pos_3d = world_to_camera(anim['positions'],R=cam['orientation'],t=cam['translation'])\n",
    "# print(pos_3d.shape)\n",
    "# print(pos_3d[:,:1].shape)\n",
    "from common.camera import *\n",
    "\n",
    "cam  =anim['cameras'][camera]\n",
    "pos_3d = world_to_camera(anim['positions'],R=cam['orientation'],t=cam['translation'])\n",
    "# Remove global offset, but keep trajectory in first position\n",
    "# 这里是将0号关节置于相机坐标系的中心\n",
    "# 因此pos_3d[:, 0]本应该全置为0， 但是代码里没有在这里做，而是在训练阶段做\n",
    "# 即 inputs_3d[:, :, 0] = 0\n",
    "print(pos_3d[frame])\n",
    "pos_3d[:, 1:] -= pos_3d[:, :1]\n",
    "pos_3d[:,0] = 0\n",
    "\n",
    "\n",
    "print(pos_3d)"
   ]
  },
  {
   "cell_type": "code",
   "execution_count": null,
   "metadata": {},
   "outputs": [],
   "source": [
    "coordinates_3d = pos_3d[frame] # camera space\n",
    "print(coordinates_3d.shape)\n",
    "print(coordinates_3d)"
   ]
  },
  {
   "cell_type": "code",
   "execution_count": null,
   "metadata": {},
   "outputs": [],
   "source": [
    "fig = plt.figure(figsize=(12, 12))\n",
    "ax = fig.add_subplot(projection='3d')\n",
    "ymin = coordinates_3d.min()\n",
    "ymax = coordinates_3d.max()\n",
    "\n",
    "ax.set_zlim([ymax,ymin])\n",
    "# ax.set_xlim([ymin,ymax])\n",
    "# ax.set_ylim([ymax,ymin])\n",
    "# ax.autoscale_view()\n",
    "ax.set_aspect('equal')\n",
    "\n",
    "for color_i, jp in zip(colors_kps, joint_pairs):\n",
    "    color_i = [c / 255 for c in color_i]\n",
    "    pt_a = coordinates_3d[jp[0]]\n",
    "    pt_b = coordinates_3d[jp[1]]\n",
    "    # print(pt_a,pt_b)\n",
    "    pt_a_x, pt_a_y, pt_a_z, pt_b_x, pt_b_y, pt_b_z = pt_a[\n",
    "        0],   pt_a[1], pt_a[2], pt_b[0], pt_b[1], pt_b[2]\n",
    "    # print(pt_a_z,pt_b_z)\n",
    "\n",
    "    ax.plot((pt_a_x, pt_b_x), (pt_a_z, pt_b_z),\n",
    "            (pt_a_y, pt_b_y), lw=2.0, c=color_i)\n",
    "    ax.plot(pt_a_x, pt_a_z, pt_a_y, marker='o', color=color_i)\n",
    "    ax.plot(pt_b_x, pt_b_z, pt_b_y, marker='o', color=color_i)\n"
   ]
  },
  {
   "cell_type": "code",
   "execution_count": null,
   "metadata": {},
   "outputs": [],
   "source": []
  }
 ],
 "metadata": {
  "interpreter": {
   "hash": "39dd61696b6e1fc6334e8188df1c4e4efcacf6a9ef4cab895eb1837aea6db278"
  },
  "kernelspec": {
   "display_name": "Python 3.8.12 64-bit ('hpe': conda)",
   "language": "python",
   "name": "python3812jvsc74a57bd039dd61696b6e1fc6334e8188df1c4e4efcacf6a9ef4cab895eb1837aea6db278"
  },
  "language_info": {
   "codemirror_mode": {
    "name": "ipython",
    "version": 3
   },
   "file_extension": ".py",
   "mimetype": "text/x-python",
   "name": "python",
   "nbconvert_exporter": "python",
   "pygments_lexer": "ipython3",
   "version": "3.8.12"
  }
 },
 "nbformat": 4,
 "nbformat_minor": 2
}
